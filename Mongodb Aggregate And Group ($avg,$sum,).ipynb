# Mongodb Aggregate And Group
1.avg
2.sum
3.project
# Out[2]:

<pymongo.results.InsertManyResult at 0x17ca5ba9088>
from pymongo import MongoClient  
    
# creation of object MongoClient  
client=MongoClient()  
    
# Connect with the portnumber and host  
client = MongoClient("mongodb://localhost:27017/")  
    
# Access database  
mydatabase = client['Students']  
    
# Access collection of the database  
collection=mydatabase['studentscores']  
data = [ 
    {"user":"Krish", "subject":"Database", "score":80}, 
    {"user":"Amit",  "subject":"JavaScript", "score":90}, 
    {"user":"Amit",  "title":"Database", "score":85}, 
    {"user":"Krish",  "title":"JavaScript", "score":75}, 
    {"user":"Amit",  "title":"Data Science", "score":60},
    {"user":"Krish",  "title":"Data Science", "score":95}] 
  
collection.insert_many(data)

### Find Amit And Krish Total Subjects
agg_result= collection.aggregate( 
    [{ 
    "$group" :  
        {"_id" : "$user",  
         "Total Subject" : {"$sum" : 1} 
         }} 
    ])

#Output: <pymongo.results.InsertManyResult at 0x17ca5ba9088>

for i in agg_result: 
    print(i)
    
#output:   {'_id': 'Amit', 'Total Subject': 3}
#Output:   {'_id': 'Krish', 'Total Subject': 3}


### Calculating the total score based on user
agg_result= collection.aggregate( 
    [{ 
    "$group" :  
        {"_id" : "$user",  
         "Total Marks" : {"$sum" :"$score"} 
         }} 
    ]) 
for i in agg_result: 
    print(i)
##Output   :{'_id': 'Amit', 'Total Marks': 235}
##Output   :{'_id': 'Krish', 'Total Marks': 250}    

### Calculating the average score based on user
agg_result=collection.aggregate([
   {
      "$group": {
         "_id": '$user',
         "StudentScoreAverage": {
            "$avg": "$score"
         }
      }
   }
])
for i in agg_result: 
    print(i)
##Output: {'_id': 'Amit', 'StudentScoreAverage': 78.33333333333333}
##Output: {'_id': 'Krish', 'StudentScoreAverage': 83.33333333333333}

import datetime as datetime

### Create a new collection
data=[{ "_id" : 1, "item" : "abc", "price" : 10, "quantity" : 2, "date" : datetime.datetime.utcnow()},
{ "_id" : 2, "item" : "jkl", "price" : 20, "quantity" : 1, "date" : datetime.datetime.utcnow() },
{ "_id" : 3, "item" : "xyz", "price" : 5, "quantity" : 5, "date" : datetime.datetime.utcnow() },
{ "_id" : 4, "item" : "abc", "price" : 10, "quantity" : 10, "date" : datetime.datetime.utcnow() },
{ "_id" : 5, "item" : "xyz", "price" : 5, "quantity" : 10, "date" :datetime.datetime.utcnow() }]

data
##Output:
[{'_id': 1,
  'item': 'abc',
  'price': 10,
  'quantity': 2,
  'date': datetime.datetime(2020, 9, 14, 16, 2, 29, 444236)},
 {'_id': 2,
  'item': 'jkl',
  'price': 20,
  'quantity': 1,
  'date': datetime.datetime(2020, 9, 14, 16, 2, 29, 444236)},
 {'_id': 3,
  'item': 'xyz',
  'price': 5,
  'quantity': 5,
  'date': datetime.datetime(2020, 9, 14, 16, 2, 29, 444236)},
 {'_id': 4,
  'item': 'abc',
  'price': 10,
  'quantity': 10,
  'date': datetime.datetime(2020, 9, 14, 16, 2, 29, 444236)},
 {'_id': 5,
  'item': 'xyz',
  'price': 5,
  'quantity': 10,
  'date': datetime.datetime(2020, 9, 14, 16, 2, 29, 444236)}]
  
  mycollection=mydatabase['stores']  
mycollection.insert_many(data)
#Out  : <pymongo.results.InsertManyResult at 0x17ca7fe1bc8>

### Calculating the average quantity And Average Price
agg_result=mycollection.aggregate([
   {
      "$group": {
         "_id": '$item',
         "avgAmount": {"$avg": {"$multiply": [ "$price", "$quantity" ]}},
          "avgQuantity": { "$avg": "$quantity" }
      }
   }
])
for i in agg_result: 
    print(i)
    
    
##Output:   {'_id': 'abc', 'avgAmount': 60.0, 'avgQuantity': 6.0}
            {'_id': 'jkl', 'avgAmount': 20.0, 'avgQuantity': 1.0}
            {'_id': 'xyz', 'avgAmount': 37.5, 'avgQuantity': 7.5}    
            
            #### $Project

data=[{
  "_id" : 1,
  "title": "abc123",
  "isbn": "0001122223334",
  "author": { "last": "zzz", "first": "aaa" },
  "copies": 5
},
{
  "_id" : 2,
  "title": "Baked Goods",
  "isbn": "9999999999999",
  "author": { "last": "xyz", "first": "abc", "middle": "" },
  "copies": 2
}
]


# Access collection of the database  
collection=mydatabase['Books']

collection.insert_many(data)

#Out <pymongo.results.InsertManyResult at 0x17ca5ff5e48>

for row in collection.aggregate( [ { "$project": { "title": 1,"isbn":1 } } ] ):
    print(row)
    
##Output {'_id': 1, 'title': 'abc123', 'isbn': '0001122223334'}
         {'_id': 2, 'title': 'Baked Goods', 'isbn': '9999999999999'}    
