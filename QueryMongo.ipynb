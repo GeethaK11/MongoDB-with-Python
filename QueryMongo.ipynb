Mango Db with Python- Querying Json Documents

In [4]:
import pymongo

client=pymongo.MongoClient('mongodb://127.0.0.1:27017/')

mydb=client['Employee']
empinfo=mydb.employeeinformation
In [5]:
record={
        'firstname':'Krish',
        'lastname':'Naik',
        'department':'Analytics',
        'qualification':'BE',
        'age':29
        }
empinfo.insert_one(record)
Out[5]:
<pymongo.results.InsertOneResult at 0x2af8d76bfc8>

Out[5]:
<pymongo.results.InsertOneResult at 0x2af8d76bfc8>

In [6]:
records=[{
        'firstname':'John',
        'lastname':'Doe',
        'department':'Analytics',
        'qualification':'statistics',
        'age':35
        
        },
         {
        'firstname':'John ',
        'lastname':'Smith',
        'department':'Analytics',
        'qualification':'masters',
        'age':30
        
        },
        {
        'firstname':'Manish',
        'lastname':'Sen',
        'department':'Analytics',
        'qualification':'phd',
        'age':34
        
        },
        {
        'firstname':'Ram',
        'lastname':'Singh',
        'department':'Analytics',
        'qualification':'master',
        'age':32
        
        }]
In [7]:
empinfo.insert_many(records)
Out[7]:
<pymongo.results.InsertManyResult at 0x2af8dacb188>
In [8]:
## Simple way of querying
empinfo.find_one()
Out[8]:
{'_id': ObjectId('5e59ec2be0e386955e9489ba'),
 'firstname': 'Krish',
 'lastname': 'Naik',
 'department': 'Analytics',
 'qualification': 'BE',
 'age': 29}
In [11]:
## Select * from employeeinformation
for record in empinfo.find({}):
    print(record)
{'_id': ObjectId('5e59ec2be0e386955e9489ba'), 'firstname': 'Krish', 'lastname': 'Naik', 'department': 'Analytics', 'qualification': 'BE', 'age': 29}
{'_id': ObjectId('5e59eca7e0e386955e9489bb'), 'firstname': 'John', 'lastname': 'Doe', 'department': 'Analytics', 'qualification': 'statistics', 'age': 35}
{'_id': ObjectId('5e59eca7e0e386955e9489bc'), 'firstname': 'John ', 'lastname': 'Smith', 'department': 'Analytics', 'qualification': 'masters', 'age': 30}
{'_id': ObjectId('5e59eca7e0e386955e9489bd'), 'firstname': 'Manish', 'lastname': 'Sen', 'department': 'Analytics', 'qualification': 'phd', 'age': 34}
{'_id': ObjectId('5e59eca7e0e386955e9489be'), 'firstname': 'Ram', 'lastname': 'Singh', 'department': 'Analytics', 'qualification': 'master', 'age': 32}
In [12]:
## Query the json documents based on equality conditions
# Select * from employeeinformation where firstname=krish

for record in empinfo.find({'firstname':'Krish'}):
    print(record)
{'_id': ObjectId('5e59ec2be0e386955e9489ba'), 'firstname': 'Krish', 'lastname': 'Naik', 'department': 'Analytics', 'qualification': 'BE', 'age': 29}



In [13]:
## Query documents using query operators($in,$lt,$gt)
for record in empinfo.find({'qualification':{'$in':['phd','master']}}):
    print(record)
{'_id': ObjectId('5e59eca7e0e386955e9489bd'), 'firstname': 'Manish', 'lastname': 'Sen', 'department': 'Analytics', 'qualification': 'phd', 'age': 34}
{'_id': ObjectId('5e59eca7e0e386955e9489be'), 'firstname': 'Ram', 'lastname': 'Singh', 'department': 'Analytics', 'qualification': 'master', 'age': 32}
In [14]:
## And and Query operators
for record in empinfo.find({'qualification':'master','age':{'$lt':35}}):
    print(record)
{'_id': ObjectId('5e59eca7e0e386955e9489be'), 'firstname': 'Ram', 'lastname': 'Singh', 'department': 'Analytics', 'qualification': 'master', 'age': 32}
In [17]:
## OR operators
for record in empinfo.find({'$or':[{'firstname':'Krish'},{'qualification':'BE'}]}):
    print(record)
{'_id': ObjectId('5e59ec2be0e386955e9489ba'), 'firstname': 'Krish', 'lastname': 'Naik', 'department': 'Analytics', 'qualification': 'BE', 'age': 29}
In [18]:
inventory=mydb.inventory
In [19]:
inventory.insert_many( [
   { 'item': "journal", 'qty': 25, 'size': { 'h': 14, 'w': 21,'uom': "cm" }, 'status': "A" },
   { 'item': "notebook", 'qty': 50,'size': { 'h': 8.5, 'w': 11,'uom': "in" },'status': "A" },
   { 'item': "paper", 'qty': 100, 'size': { 'h': 8.5, 'w': 11,'uom': "in" },'status': "D" },
   { 'item': "planner", 'qty': 75, 'size': { 'h': 22.85,'w': 30,'uom': "cm" },'status': "D" },
   { 'item': "postcard", 'qty': 45, 'size': { 'h': 10, 'w': 15.25,'uom': "cm" },'status': "A" }
]);
In [21]:
for records in inventory.find({'size': { 'h': 14, 'w': 21,'uom': "cm" }}):
    print(records)
{'_id': ObjectId('5e59f14ee0e386955e9489bf'), 'item': 'journal', 'qty': 25, 'size': {'h': 14, 'w': 21, 'uom': 'cm'}, 'status': 'A'}
In [ ]:
